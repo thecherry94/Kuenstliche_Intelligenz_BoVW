{
 "cells": [
  {
   "cell_type": "code",
   "execution_count": 1,
   "metadata": {},
   "outputs": [],
   "source": [
    "from utils import load_mvtec"
   ]
  },
  {
   "cell_type": "code",
   "execution_count": 2,
   "metadata": {},
   "outputs": [],
   "source": [
    "MVTEC_CATEGORIES = [\n",
    "    \"bottle\",\n",
    "    \"cable\",\n",
    "    \"capsule\",\n",
    "    \"carpet\",\n",
    "    \"grid\",\n",
    "    \"hazelnut\",\n",
    "    \"leather\",\n",
    "    \"metal_nut\",\n",
    "    \"pill\",\n",
    "    \"screw\",\n",
    "    \"tile\",\n",
    "    \"toothbrush\",\n",
    "    \"transistor\",\n",
    "    \"wood\",\n",
    "    \"zipper\",\n",
    "]"
   ]
  },
  {
   "cell_type": "code",
   "execution_count": 3,
   "metadata": {},
   "outputs": [],
   "source": [
    "main_dir = 'mvtec_anomaly_detection_data_yolo'\n",
    "train_images, train_labels, test_images, test_labels, val_images, val_labels = load_mvtec(main_dir, MVTEC_CATEGORIES[0])"
   ]
  },
  {
   "cell_type": "code",
   "execution_count": 4,
   "metadata": {},
   "outputs": [
    {
     "data": {
      "text/plain": [
       "(197, 224, 224, 3)"
      ]
     },
     "execution_count": 4,
     "metadata": {},
     "output_type": "execute_result"
    }
   ],
   "source": [
    "train_images.shape"
   ]
  }
 ],
 "metadata": {
  "interpreter": {
   "hash": "2ac93f2f243d7a9cd380853724921c94abdaf50ec9f7bf0ce2540869cb78adcb"
  },
  "kernelspec": {
   "display_name": "Python 3.8.0 64-bit",
   "language": "python",
   "name": "python3"
  },
  "language_info": {
   "codemirror_mode": {
    "name": "ipython",
    "version": 3
   },
   "file_extension": ".py",
   "mimetype": "text/x-python",
   "name": "python",
   "nbconvert_exporter": "python",
   "pygments_lexer": "ipython3",
   "version": "3.8.0"
  },
  "orig_nbformat": 4
 },
 "nbformat": 4,
 "nbformat_minor": 2
}
