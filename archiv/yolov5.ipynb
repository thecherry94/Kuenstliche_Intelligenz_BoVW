{
 "cells": [
  {
   "cell_type": "code",
   "execution_count": 1,
   "metadata": {},
   "outputs": [
    {
     "name": "stderr",
     "output_type": "stream",
     "text": [
      "YOLOv5  2022-5-14 torch 1.11.0+cpu CPU\n"
     ]
    },
    {
     "name": "stdout",
     "output_type": "stream",
     "text": [
      "Setup complete  (4 CPUs, 7.4 GB RAM, 148.3/178.6 GB disk)\n"
     ]
    }
   ],
   "source": [
    "import torch\n",
    "import utils\n",
    "display = utils.notebook_init()  # checks"
   ]
  },
  {
   "cell_type": "code",
   "execution_count": 2,
   "metadata": {},
   "outputs": [
    {
     "name": "stdout",
     "output_type": "stream",
     "text": [
      "\u001b[34m\u001b[1mgithub: \u001b[0mskipping check (not a git repository), for updates see https://github.com/ultralytics/yolov5\n"
     ]
    },
    {
     "name": "stderr",
     "output_type": "stream",
     "text": [
      "\u001b[34m\u001b[1mtrain: \u001b[0mweights=yolov5s.pt, cfg=, data=KI_detection.yaml, hyp=data\\hyps\\hyp.scratch-low.yaml, epochs=3, batch_size=16, imgsz=640, rect=False, resume=False, nosave=False, noval=False, noautoanchor=False, noplots=False, evolve=None, bucket=, cache=ram, image_weights=False, device=, multi_scale=False, single_cls=False, optimizer=SGD, sync_bn=False, workers=8, project=runs\\train, name=exp, exist_ok=False, quad=False, cos_lr=False, label_smoothing=0.0, patience=100, freeze=[0], save_period=-1, local_rank=-1, entity=None, upload_dataset=False, bbox_interval=-1, artifact_alias=latest\n",
      "YOLOv5  2022-5-14 torch 1.11.0+cpu CPU\n",
      "\n",
      "\u001b[34m\u001b[1mhyperparameters: \u001b[0mlr0=0.01, lrf=0.01, momentum=0.937, weight_decay=0.0005, warmup_epochs=3.0, warmup_momentum=0.8, warmup_bias_lr=0.1, box=0.05, cls=0.5, cls_pw=1.0, obj=1.0, obj_pw=1.0, iou_t=0.2, anchor_t=4.0, fl_gamma=0.0, hsv_h=0.015, hsv_s=0.7, hsv_v=0.4, degrees=0.0, translate=0.1, scale=0.5, shear=0.0, perspective=0.0, flipud=0.0, fliplr=0.5, mosaic=1.0, mixup=0.0, copy_paste=0.0\n",
      "\u001b[34m\u001b[1mWeights & Biases: \u001b[0mrun 'pip install wandb' to automatically track and visualize YOLOv5  runs (RECOMMENDED)\n",
      "\u001b[34m\u001b[1mTensorBoard: \u001b[0mStart with 'tensorboard --logdir runs\\train', view at http://localhost:6006/\n",
      "2022-05-15 10:16:47.953181: W tensorflow/stream_executor/platform/default/dso_loader.cc:64] Could not load dynamic library 'cudart64_110.dll'; dlerror: cudart64_110.dll not found\n",
      "2022-05-15 10:16:47.953622: I tensorflow/stream_executor/cuda/cudart_stub.cc:29] Ignore above cudart dlerror if you do not have a GPU set up on your machine.\n",
      "Overriding model.yaml nc=80 with nc=1\n",
      "\n",
      "                 from  n    params  module                                  arguments                     \n",
      "  0                -1  1      3520  models.common.Conv                      [3, 32, 6, 2, 2]              \n",
      "  1                -1  1     18560  models.common.Conv                      [32, 64, 3, 2]                \n",
      "  2                -1  1     18816  models.common.C3                        [64, 64, 1]                   \n",
      "  3                -1  1     73984  models.common.Conv                      [64, 128, 3, 2]               \n",
      "  4                -1  2    115712  models.common.C3                        [128, 128, 2]                 \n",
      "  5                -1  1    295424  models.common.Conv                      [128, 256, 3, 2]              \n",
      "  6                -1  3    625152  models.common.C3                        [256, 256, 3]                 \n",
      "  7                -1  1   1180672  models.common.Conv                      [256, 512, 3, 2]              \n",
      "  8                -1  1   1182720  models.common.C3                        [512, 512, 1]                 \n",
      "  9                -1  1    656896  models.common.SPPF                      [512, 512, 5]                 \n",
      " 10                -1  1    131584  models.common.Conv                      [512, 256, 1, 1]              \n",
      " 11                -1  1         0  torch.nn.modules.upsampling.Upsample    [None, 2, 'nearest']          \n",
      " 12           [-1, 6]  1         0  models.common.Concat                    [1]                           \n",
      " 13                -1  1    361984  models.common.C3                        [512, 256, 1, False]          \n",
      " 14                -1  1     33024  models.common.Conv                      [256, 128, 1, 1]              \n",
      " 15                -1  1         0  torch.nn.modules.upsampling.Upsample    [None, 2, 'nearest']          \n",
      " 16           [-1, 4]  1         0  models.common.Concat                    [1]                           \n",
      " 17                -1  1     90880  models.common.C3                        [256, 128, 1, False]          \n",
      " 18                -1  1    147712  models.common.Conv                      [128, 128, 3, 2]              \n",
      " 19          [-1, 14]  1         0  models.common.Concat                    [1]                           \n",
      " 20                -1  1    296448  models.common.C3                        [256, 256, 1, False]          \n",
      " 21                -1  1    590336  models.common.Conv                      [256, 256, 3, 2]              \n",
      " 22          [-1, 10]  1         0  models.common.Concat                    [1]                           \n",
      " 23                -1  1   1182720  models.common.C3                        [512, 512, 1, False]          \n",
      " 24      [17, 20, 23]  1     16182  models.yolo.Detect                      [1, [[10, 13, 16, 30, 33, 23], [30, 61, 62, 45, 59, 119], [116, 90, 156, 198, 373, 326]], [128, 256, 512]]\n",
      "Model summary: 270 layers, 7022326 parameters, 7022326 gradients, 15.8 GFLOPs\n",
      "\n",
      "Transferred 343/349 items from yolov5s.pt\n",
      "Scaled weight_decay = 0.0005\n",
      "\u001b[34m\u001b[1moptimizer:\u001b[0m SGD with parameter groups 57 weight (no decay), 60 weight, 60 bias\n",
      "\n",
      "\u001b[34m\u001b[1mtrain: \u001b[0mScanning 'C:\\Users\\tobia\\Desktop\\Master\\2. Semester\\02_KI_Produktion\\Programme\\Project\\Kuenstliche_Intelligenz_BoVW\\datasets\\bottle\\labels\\train' images and labels...:   0%|          | 0/50 [00:00<?, ?it/s]\n",
      "\u001b[34m\u001b[1mtrain: \u001b[0mScanning 'C:\\Users\\tobia\\Desktop\\Master\\2. Semester\\02_KI_Produktion\\Programme\\Project\\Kuenstliche_Intelligenz_BoVW\\datasets\\bottle\\labels\\train' images and labels...1 found, 0 missing, 0 empty, 0 corrupt:   2%|▏         | 1/50 [00:07<06:22,  7.80s/it]\n",
      "\u001b[34m\u001b[1mtrain: \u001b[0mScanning 'C:\\Users\\tobia\\Desktop\\Master\\2. Semester\\02_KI_Produktion\\Programme\\Project\\Kuenstliche_Intelligenz_BoVW\\datasets\\bottle\\labels\\train' images and labels...50 found, 0 missing, 0 empty, 0 corrupt: 100%|██████████| 50/50 [00:07<00:00,  6.33it/s]\n",
      "\u001b[34m\u001b[1mtrain: \u001b[0mWARNING: Cache directory C:\\Users\\tobia\\Desktop\\Master\\2. Semester\\02_KI_Produktion\\Programme\\Project\\Kuenstliche_Intelligenz_BoVW\\datasets\\bottle\\labels is not writeable: [WinError 183] Eine Datei kann nicht erstellt werden, wenn sie bereits vorhanden ist: 'C:\\\\Users\\\\tobia\\\\Desktop\\\\Master\\\\2. Semester\\\\02_KI_Produktion\\\\Programme\\\\Project\\\\Kuenstliche_Intelligenz_BoVW\\\\datasets\\\\bottle\\\\labels\\\\train.cache.npy' -> 'C:\\\\Users\\\\tobia\\\\Desktop\\\\Master\\\\2. Semester\\\\02_KI_Produktion\\\\Programme\\\\Project\\\\Kuenstliche_Intelligenz_BoVW\\\\datasets\\\\bottle\\\\labels\\\\train.cache'\n",
      "\n",
      "  0%|          | 0/50 [00:00<?, ?it/s]\n",
      "\u001b[34m\u001b[1mtrain: \u001b[0mCaching images (0.0GB ram):  48%|████▊     | 24/50 [00:00<00:00, 205.68it/s]\n",
      "\u001b[34m\u001b[1mtrain: \u001b[0mCaching images (0.1GB ram): 100%|██████████| 50/50 [00:00<00:00, 231.55it/s]\n",
      "\n",
      "\u001b[34m\u001b[1mval: \u001b[0mScanning 'C:\\Users\\tobia\\Desktop\\Master\\2. Semester\\02_KI_Produktion\\Programme\\Project\\Kuenstliche_Intelligenz_BoVW\\datasets\\bottle\\labels\\test' images and labels...:   0%|          | 0/10 [00:00<?, ?it/s]\n",
      "\u001b[34m\u001b[1mval: \u001b[0mScanning 'C:\\Users\\tobia\\Desktop\\Master\\2. Semester\\02_KI_Produktion\\Programme\\Project\\Kuenstliche_Intelligenz_BoVW\\datasets\\bottle\\labels\\test' images and labels...1 found, 0 missing, 0 empty, 1 corrupt:  10%|█         | 1/10 [00:07<01:06,  7.40s/it]\n",
      "\u001b[34m\u001b[1mval: \u001b[0mScanning 'C:\\Users\\tobia\\Desktop\\Master\\2. Semester\\02_KI_Produktion\\Programme\\Project\\Kuenstliche_Intelligenz_BoVW\\datasets\\bottle\\labels\\test' images and labels...10 found, 0 missing, 0 empty, 10 corrupt: 100%|██████████| 10/10 [00:07<00:00,  1.35it/s]\n",
      "\u001b[34m\u001b[1mval: \u001b[0mWARNING: C:\\Users\\tobia\\Desktop\\Master\\2. Semester\\02_KI_Produktion\\Programme\\Project\\Kuenstliche_Intelligenz_BoVW\\datasets\\bottle\\images\\test\\000.png: ignoring corrupt image/label: negative label values [         -1]\n",
      "\u001b[34m\u001b[1mval: \u001b[0mWARNING: C:\\Users\\tobia\\Desktop\\Master\\2. Semester\\02_KI_Produktion\\Programme\\Project\\Kuenstliche_Intelligenz_BoVW\\datasets\\bottle\\images\\test\\001.png: ignoring corrupt image/label: negative label values [         -1]\n",
      "\u001b[34m\u001b[1mval: \u001b[0mWARNING: C:\\Users\\tobia\\Desktop\\Master\\2. Semester\\02_KI_Produktion\\Programme\\Project\\Kuenstliche_Intelligenz_BoVW\\datasets\\bottle\\images\\test\\002.png: ignoring corrupt image/label: negative label values [         -1]\n",
      "\u001b[34m\u001b[1mval: \u001b[0mWARNING: C:\\Users\\tobia\\Desktop\\Master\\2. Semester\\02_KI_Produktion\\Programme\\Project\\Kuenstliche_Intelligenz_BoVW\\datasets\\bottle\\images\\test\\003.png: ignoring corrupt image/label: negative label values [         -1]\n",
      "\u001b[34m\u001b[1mval: \u001b[0mWARNING: C:\\Users\\tobia\\Desktop\\Master\\2. Semester\\02_KI_Produktion\\Programme\\Project\\Kuenstliche_Intelligenz_BoVW\\datasets\\bottle\\images\\test\\004.png: ignoring corrupt image/label: negative label values [         -1]\n",
      "\u001b[34m\u001b[1mval: \u001b[0mWARNING: C:\\Users\\tobia\\Desktop\\Master\\2. Semester\\02_KI_Produktion\\Programme\\Project\\Kuenstliche_Intelligenz_BoVW\\datasets\\bottle\\images\\test\\005.png: ignoring corrupt image/label: negative label values [         -1]\n",
      "\u001b[34m\u001b[1mval: \u001b[0mWARNING: C:\\Users\\tobia\\Desktop\\Master\\2. Semester\\02_KI_Produktion\\Programme\\Project\\Kuenstliche_Intelligenz_BoVW\\datasets\\bottle\\images\\test\\006.png: ignoring corrupt image/label: negative label values [         -1]\n",
      "\u001b[34m\u001b[1mval: \u001b[0mWARNING: C:\\Users\\tobia\\Desktop\\Master\\2. Semester\\02_KI_Produktion\\Programme\\Project\\Kuenstliche_Intelligenz_BoVW\\datasets\\bottle\\images\\test\\007.png: ignoring corrupt image/label: negative label values [         -1]\n",
      "\u001b[34m\u001b[1mval: \u001b[0mWARNING: C:\\Users\\tobia\\Desktop\\Master\\2. Semester\\02_KI_Produktion\\Programme\\Project\\Kuenstliche_Intelligenz_BoVW\\datasets\\bottle\\images\\test\\008.png: ignoring corrupt image/label: negative label values [         -1]\n",
      "\u001b[34m\u001b[1mval: \u001b[0mWARNING: C:\\Users\\tobia\\Desktop\\Master\\2. Semester\\02_KI_Produktion\\Programme\\Project\\Kuenstliche_Intelligenz_BoVW\\datasets\\bottle\\images\\test\\009.png: ignoring corrupt image/label: negative label values [         -1]\n",
      "\u001b[34m\u001b[1mval: \u001b[0mWARNING: Cache directory C:\\Users\\tobia\\Desktop\\Master\\2. Semester\\02_KI_Produktion\\Programme\\Project\\Kuenstliche_Intelligenz_BoVW\\datasets\\bottle\\labels is not writeable: [WinError 183] Eine Datei kann nicht erstellt werden, wenn sie bereits vorhanden ist: 'C:\\\\Users\\\\tobia\\\\Desktop\\\\Master\\\\2. Semester\\\\02_KI_Produktion\\\\Programme\\\\Project\\\\Kuenstliche_Intelligenz_BoVW\\\\datasets\\\\bottle\\\\labels\\\\test.cache.npy' -> 'C:\\\\Users\\\\tobia\\\\Desktop\\\\Master\\\\2. Semester\\\\02_KI_Produktion\\\\Programme\\\\Project\\\\Kuenstliche_Intelligenz_BoVW\\\\datasets\\\\bottle\\\\labels\\\\test.cache'\n",
      "Traceback (most recent call last):\n",
      "  File \"train.py\", line 670, in <module>\n",
      "    main(opt)\n",
      "  File \"train.py\", line 565, in main\n",
      "    train(opt.hyp, opt, device, callbacks)\n",
      "  File \"train.py\", line 242, in train\n",
      "    val_loader = create_dataloader(val_path,\n",
      "  File \"c:\\Users\\tobia\\Desktop\\Master\\2. Semester\\02_KI_Produktion\\Programme\\Project\\Kuenstliche_Intelligenz_BoVW\\yolov5-master\\utils\\dataloaders.py\", line 116, in create_dataloader\n",
      "    dataset = LoadImagesAndLabels(\n",
      "  File \"c:\\Users\\tobia\\Desktop\\Master\\2. Semester\\02_KI_Produktion\\Programme\\Project\\Kuenstliche_Intelligenz_BoVW\\yolov5-master\\utils\\dataloaders.py\", line 468, in __init__\n",
      "    labels, shapes, self.segments = zip(*cache.values())\n",
      "ValueError: not enough values to unpack (expected 3, got 0)\n"
     ]
    }
   ],
   "source": [
    "!python train.py --img 640 --batch 16 --epochs 3 --data KI_detection.yaml --weights yolov5s.pt --cache"
   ]
  },
  {
   "cell_type": "code",
   "execution_count": null,
   "metadata": {},
   "outputs": [],
   "source": [
    "!python detect.py --weights yolov5s.pt --img 640 --conf 0.25 --source data/images\n",
    "display.Image(filename='runs/detect/exp/zidane.jpg', width=600)"
   ]
  }
 ],
 "metadata": {
  "interpreter": {
   "hash": "b6ff650ed7ce357665f7fd5d592e75f4599a5525aeef59f123230c33d5719d42"
  },
  "kernelspec": {
   "display_name": "Python 3.8.0 ('myenv': venv)",
   "language": "python",
   "name": "python3"
  },
  "language_info": {
   "codemirror_mode": {
    "name": "ipython",
    "version": 3
   },
   "file_extension": ".py",
   "mimetype": "text/x-python",
   "name": "python",
   "nbconvert_exporter": "python",
   "pygments_lexer": "ipython3",
   "version": "3.8.0"
  },
  "orig_nbformat": 4
 },
 "nbformat": 4,
 "nbformat_minor": 2
}
