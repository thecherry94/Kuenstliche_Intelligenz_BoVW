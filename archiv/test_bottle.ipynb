{
 "cells": [
  {
   "cell_type": "code",
   "execution_count": 6,
   "metadata": {},
   "outputs": [
    {
     "data": {
      "text/html": [
       "\n",
       "      <iframe id=\"tensorboard-frame-b5578c0fb501731\" width=\"100%\" height=\"800\" frameborder=\"0\">\n",
       "      </iframe>\n",
       "      <script>\n",
       "        (function() {\n",
       "          const frame = document.getElementById(\"tensorboard-frame-b5578c0fb501731\");\n",
       "          const url = new URL(\"/\", window.location);\n",
       "          const port = 6006;\n",
       "          if (port) {\n",
       "            url.port = port;\n",
       "          }\n",
       "          frame.src = url;\n",
       "        })();\n",
       "      </script>\n",
       "    "
      ],
      "text/plain": [
       "<IPython.core.display.HTML object>"
      ]
     },
     "metadata": {},
     "output_type": "display_data"
    }
   ],
   "source": [
    "# Tensorboard  (optional)\n",
    "%load_ext tensorboard\n",
    "%tensorboard --logdir runs/train"
   ]
  },
  {
   "cell_type": "code",
   "execution_count": 7,
   "metadata": {},
   "outputs": [
    {
     "name": "stdout",
     "output_type": "stream",
     "text": [
      "\u001b[34m\u001b[1mgithub: \u001b[0mskipping check (not a git repository), for updates see https://github.com/ultralytics/yolov5\n"
     ]
    },
    {
     "name": "stderr",
     "output_type": "stream",
     "text": [
      "\u001b[34m\u001b[1mtrain: \u001b[0mweights=yolov5s.pt, cfg=, data=KI_detection.yaml, hyp=data\\hyps\\hyp.scratch-low.yaml, epochs=3, batch_size=16, imgsz=640, rect=False, resume=False, nosave=False, noval=False, noautoanchor=False, noplots=False, evolve=None, bucket=, cache=ram, image_weights=False, device=, multi_scale=False, single_cls=False, optimizer=SGD, sync_bn=False, workers=8, project=runs\\train, name=exp, exist_ok=False, quad=False, cos_lr=False, label_smoothing=0.0, patience=100, freeze=[0], save_period=-1, local_rank=-1, entity=None, upload_dataset=False, bbox_interval=-1, artifact_alias=latest\n",
      "YOLOv5  2022-5-15 Python-3.8.0 torch-1.8.2+cpu CPU\n",
      "\n",
      "\u001b[34m\u001b[1mhyperparameters: \u001b[0mlr0=0.01, lrf=0.01, momentum=0.937, weight_decay=0.0005, warmup_epochs=3.0, warmup_momentum=0.8, warmup_bias_lr=0.1, box=0.05, cls=0.5, cls_pw=1.0, obj=1.0, obj_pw=1.0, iou_t=0.2, anchor_t=4.0, fl_gamma=0.0, hsv_h=0.015, hsv_s=0.7, hsv_v=0.4, degrees=0.0, translate=0.1, scale=0.5, shear=0.0, perspective=0.0, flipud=0.0, fliplr=0.5, mosaic=1.0, mixup=0.0, copy_paste=0.0\n",
      "\u001b[34m\u001b[1mWeights & Biases: \u001b[0mrun 'pip install wandb' to automatically track and visualize YOLOv5  runs (RECOMMENDED)\n",
      "\u001b[34m\u001b[1mTensorBoard: \u001b[0mStart with 'tensorboard --logdir runs\\train', view at http://localhost:6006/\n",
      "2022-05-15 14:03:32.847186: W tensorflow/stream_executor/platform/default/dso_loader.cc:64] Could not load dynamic library 'cudart64_110.dll'; dlerror: cudart64_110.dll not found\n",
      "2022-05-15 14:03:32.847523: I tensorflow/stream_executor/cuda/cudart_stub.cc:29] Ignore above cudart dlerror if you do not have a GPU set up on your machine.\n",
      "Overriding model.yaml nc=80 with nc=1\n",
      "\n",
      "                 from  n    params  module                                  arguments                     \n",
      "  0                -1  1      3520  models.common.Conv                      [3, 32, 6, 2, 2]              \n",
      "  1                -1  1     18560  models.common.Conv                      [32, 64, 3, 2]                \n",
      "  2                -1  1     18816  models.common.C3                        [64, 64, 1]                   \n",
      "  3                -1  1     73984  models.common.Conv                      [64, 128, 3, 2]               \n",
      "  4                -1  2    115712  models.common.C3                        [128, 128, 2]                 \n",
      "  5                -1  1    295424  models.common.Conv                      [128, 256, 3, 2]              \n",
      "  6                -1  3    625152  models.common.C3                        [256, 256, 3]                 \n",
      "  7                -1  1   1180672  models.common.Conv                      [256, 512, 3, 2]              \n",
      "  8                -1  1   1182720  models.common.C3                        [512, 512, 1]                 \n",
      "  9                -1  1    656896  models.common.SPPF                      [512, 512, 5]                 \n",
      " 10                -1  1    131584  models.common.Conv                      [512, 256, 1, 1]              \n",
      " 11                -1  1         0  torch.nn.modules.upsampling.Upsample    [None, 2, 'nearest']          \n",
      " 12           [-1, 6]  1         0  models.common.Concat                    [1]                           \n",
      " 13                -1  1    361984  models.common.C3                        [512, 256, 1, False]          \n",
      " 14                -1  1     33024  models.common.Conv                      [256, 128, 1, 1]              \n",
      " 15                -1  1         0  torch.nn.modules.upsampling.Upsample    [None, 2, 'nearest']          \n",
      " 16           [-1, 4]  1         0  models.common.Concat                    [1]                           \n",
      " 17                -1  1     90880  models.common.C3                        [256, 128, 1, False]          \n",
      " 18                -1  1    147712  models.common.Conv                      [128, 128, 3, 2]              \n",
      " 19          [-1, 14]  1         0  models.common.Concat                    [1]                           \n",
      " 20                -1  1    296448  models.common.C3                        [256, 256, 1, False]          \n",
      " 21                -1  1    590336  models.common.Conv                      [256, 256, 3, 2]              \n",
      " 22          [-1, 10]  1         0  models.common.Concat                    [1]                           \n",
      " 23                -1  1   1182720  models.common.C3                        [512, 512, 1, False]          \n",
      " 24      [17, 20, 23]  1     16182  models.yolo.Detect                      [1, [[10, 13, 16, 30, 33, 23], [30, 61, 62, 45, 59, 119], [116, 90, 156, 198, 373, 326]], [128, 256, 512]]\n",
      "Model summary: 270 layers, 7022326 parameters, 7022326 gradients, 15.8 GFLOPs\n",
      "\n",
      "Transferred 343/349 items from yolov5s.pt\n",
      "Scaled weight_decay = 0.0005\n",
      "\u001b[34m\u001b[1moptimizer:\u001b[0m SGD with parameter groups 57 weight (no decay), 60 weight, 60 bias\n",
      "\n",
      "\u001b[34m\u001b[1mtrain: \u001b[0mScanning 'C:\\Users\\tobia\\Desktop\\Master\\2. Semester\\02_KI_Produktion\\Programme\\Project\\Kuenstliche_Intelligenz_BoVW\\mvtec_data_yolo\\bottle\\labels\\train.cache' images and labels... 47 found, 0 missing, 0 empty, 0 corrupt: 100%|██████████| 47/47 [00:00<?, ?it/s]\n",
      "\u001b[34m\u001b[1mtrain: \u001b[0mScanning 'C:\\Users\\tobia\\Desktop\\Master\\2. Semester\\02_KI_Produktion\\Programme\\Project\\Kuenstliche_Intelligenz_BoVW\\mvtec_data_yolo\\bottle\\labels\\train.cache' images and labels... 47 found, 0 missing, 0 empty, 0 corrupt: 100%|██████████| 47/47 [00:00<?, ?it/s]\n",
      "\n",
      "  0%|          | 0/47 [00:00<?, ?it/s]\n",
      "\u001b[34m\u001b[1mtrain: \u001b[0mCaching images (0.0GB ram):  40%|████      | 19/47 [00:00<00:00, 185.95it/s]\n",
      "\u001b[34m\u001b[1mtrain: \u001b[0mCaching images (0.0GB ram):  83%|████████▎ | 39/47 [00:00<00:00, 191.06it/s]\n",
      "\u001b[34m\u001b[1mtrain: \u001b[0mCaching images (0.1GB ram): 100%|██████████| 47/47 [00:00<00:00, 182.79it/s]\n",
      "\n",
      "\u001b[34m\u001b[1mval: \u001b[0mScanning 'C:\\Users\\tobia\\Desktop\\Master\\2. Semester\\02_KI_Produktion\\Programme\\Project\\Kuenstliche_Intelligenz_BoVW\\mvtec_data_yolo\\bottle\\labels\\val' images and labels...:   0%|          | 0/8 [00:00<?, ?it/s]\n",
      "\u001b[34m\u001b[1mval: \u001b[0mScanning 'C:\\Users\\tobia\\Desktop\\Master\\2. Semester\\02_KI_Produktion\\Programme\\Project\\Kuenstliche_Intelligenz_BoVW\\mvtec_data_yolo\\bottle\\labels\\val' images and labels...1 found, 0 missing, 0 empty, 0 corrupt:  12%|█▎        | 1/8 [00:08<01:02,  8.98s/it]\n",
      "\u001b[34m\u001b[1mval: \u001b[0mScanning 'C:\\Users\\tobia\\Desktop\\Master\\2. Semester\\02_KI_Produktion\\Programme\\Project\\Kuenstliche_Intelligenz_BoVW\\mvtec_data_yolo\\bottle\\labels\\val' images and labels...8 found, 0 missing, 0 empty, 0 corrupt: 100%|██████████| 8/8 [00:09<00:00,  1.13s/it]\n",
      "\u001b[34m\u001b[1mval: \u001b[0mNew cache created: C:\\Users\\tobia\\Desktop\\Master\\2. Semester\\02_KI_Produktion\\Programme\\Project\\Kuenstliche_Intelligenz_BoVW\\mvtec_data_yolo\\bottle\\labels\\val.cache\n",
      "\n",
      "  0%|          | 0/8 [00:00<?, ?it/s]\n",
      "\u001b[34m\u001b[1mval: \u001b[0mCaching images (0.0GB ram): 100%|██████████| 8/8 [00:00<00:00, 195.67it/s]\n",
      "Plotting labels to runs\\train\\exp6\\labels.jpg... \n",
      "\n",
      "\u001b[34m\u001b[1mAutoAnchor: \u001b[0m3.36 anchors/target, 1.000 Best Possible Recall (BPR). Current anchors are a good fit to dataset \n",
      "Image sizes 640 train, 640 val\n",
      "Using 4 dataloader workers\n",
      "Logging results to \u001b[1mruns\\train\\exp6\u001b[0m\n",
      "Starting training for 3 epochs...\n",
      "\n",
      "     Epoch   gpu_mem       box       obj       cls    labels  img_size\n",
      "\n",
      "  0%|          | 0/3 [00:00<?, ?it/s]\n",
      "       0/2        0G    0.1207   0.03179         0        28       640:   0%|          | 0/3 [00:49<?, ?it/s]\n",
      "       0/2        0G    0.1207   0.03179         0        28       640:  33%|███▎      | 1/3 [00:58<01:56, 58.37s/it]\n",
      "       0/2        0G    0.1233   0.03182         0        29       640:  33%|███▎      | 1/3 [01:40<01:56, 58.37s/it]\n",
      "       0/2        0G    0.1233   0.03182         0        29       640:  67%|██████▋   | 2/3 [01:40<00:48, 48.62s/it]\n",
      "       0/2        0G    0.1225   0.03245         0        36       640:  67%|██████▋   | 2/3 [02:02<00:48, 48.62s/it]\n",
      "       0/2        0G    0.1225   0.03245         0        36       640: 100%|██████████| 3/3 [02:02<00:00, 36.77s/it]\n",
      "       0/2        0G    0.1225   0.03245         0        36       640: 100%|██████████| 3/3 [02:02<00:00, 40.95s/it]\n",
      "\n",
      "               Class     Images     Labels          P          R     mAP@.5 mAP@.5:.95:   0%|          | 0/1 [00:00<?, ?it/s]WARNING: NMS time limit 0.340s exceeded\n",
      "\n",
      "               Class     Images     Labels          P          R     mAP@.5 mAP@.5:.95: 100%|██████████| 1/1 [00:05<00:00,  5.43s/it]\n",
      "               Class     Images     Labels          P          R     mAP@.5 mAP@.5:.95: 100%|██████████| 1/1 [00:05<00:00,  5.43s/it]\n",
      "                 all          8          1    0.00333          1     0.0243    0.00243\n",
      "\n",
      "     Epoch   gpu_mem       box       obj       cls    labels  img_size\n",
      "\n",
      "  0%|          | 0/3 [00:00<?, ?it/s]\n",
      "       1/2        0G    0.1207   0.03354         0        38       640:   0%|          | 0/3 [00:32<?, ?it/s]\n",
      "       1/2        0G    0.1207   0.03354         0        38       640:  33%|███▎      | 1/3 [00:32<01:05, 32.87s/it]\n",
      "       1/2        0G    0.1212   0.03257         0        30       640:  33%|███▎      | 1/3 [01:02<01:05, 32.87s/it]\n",
      "       1/2        0G    0.1212   0.03257         0        30       640:  67%|██████▋   | 2/3 [01:02<00:31, 31.25s/it]\n",
      "       1/2        0G    0.1197   0.03347         0        39       640:  67%|██████▋   | 2/3 [01:21<00:31, 31.25s/it]\n",
      "       1/2        0G    0.1197   0.03347         0        39       640: 100%|██████████| 3/3 [01:21<00:00, 25.54s/it]\n",
      "       1/2        0G    0.1197   0.03347         0        39       640: 100%|██████████| 3/3 [01:21<00:00, 27.24s/it]\n",
      "\n",
      "               Class     Images     Labels          P          R     mAP@.5 mAP@.5:.95:   0%|          | 0/1 [00:00<?, ?it/s]WARNING: NMS time limit 0.340s exceeded\n",
      "\n",
      "               Class     Images     Labels          P          R     mAP@.5 mAP@.5:.95: 100%|██████████| 1/1 [00:05<00:00,  5.23s/it]\n",
      "               Class     Images     Labels          P          R     mAP@.5 mAP@.5:.95: 100%|██████████| 1/1 [00:05<00:00,  5.23s/it]\n",
      "                 all          8          1    0.00333          1     0.0524     0.0105\n",
      "\n",
      "     Epoch   gpu_mem       box       obj       cls    labels  img_size\n",
      "\n",
      "  0%|          | 0/3 [00:00<?, ?it/s]\n",
      "       2/2        0G     0.107   0.03199         0        32       640:   0%|          | 0/3 [00:27<?, ?it/s]\n",
      "       2/2        0G     0.107   0.03199         0        32       640:  33%|███▎      | 1/3 [00:27<00:55, 27.77s/it]\n",
      "       2/2        0G    0.1112   0.03262         0        39       640:  33%|███▎      | 1/3 [00:48<00:55, 27.77s/it]\n",
      "       2/2        0G    0.1112   0.03262         0        39       640:  67%|██████▋   | 2/3 [00:48<00:23, 23.91s/it]\n",
      "       2/2        0G    0.1164   0.03202         0        29       640:  67%|██████▋   | 2/3 [01:07<00:23, 23.91s/it]\n",
      "       2/2        0G    0.1164   0.03202         0        29       640: 100%|██████████| 3/3 [01:07<00:00, 21.46s/it]\n",
      "       2/2        0G    0.1164   0.03202         0        29       640: 100%|██████████| 3/3 [01:07<00:00, 22.51s/it]\n",
      "\n",
      "               Class     Images     Labels          P          R     mAP@.5 mAP@.5:.95:   0%|          | 0/1 [00:00<?, ?it/s]WARNING: NMS time limit 0.340s exceeded\n",
      "\n",
      "               Class     Images     Labels          P          R     mAP@.5 mAP@.5:.95: 100%|██████████| 1/1 [00:05<00:00,  5.21s/it]\n",
      "               Class     Images     Labels          P          R     mAP@.5 mAP@.5:.95: 100%|██████████| 1/1 [00:05<00:00,  5.21s/it]\n",
      "                 all          8          1    0.00333          1    0.00829    0.00332\n",
      "\n",
      "3 epochs completed in 0.080 hours.\n",
      "Optimizer stripped from runs\\train\\exp6\\weights\\last.pt, 14.5MB\n",
      "Optimizer stripped from runs\\train\\exp6\\weights\\best.pt, 14.5MB\n",
      "\n",
      "Validating runs\\train\\exp6\\weights\\best.pt...\n",
      "Fusing layers... \n",
      "Model summary: 213 layers, 7012822 parameters, 0 gradients, 15.8 GFLOPs\n",
      "\n",
      "               Class     Images     Labels          P          R     mAP@.5 mAP@.5:.95:   0%|          | 0/1 [00:00<?, ?it/s]WARNING: NMS time limit 0.340s exceeded\n",
      "\n",
      "               Class     Images     Labels          P          R     mAP@.5 mAP@.5:.95: 100%|██████████| 1/1 [00:05<00:00,  5.04s/it]\n",
      "               Class     Images     Labels          P          R     mAP@.5 mAP@.5:.95: 100%|██████████| 1/1 [00:05<00:00,  5.04s/it]\n",
      "                 all          8          1    0.00333          1     0.0498    0.00995\n",
      "Results saved to \u001b[1mruns\\train\\exp6\u001b[0m\n"
     ]
    }
   ],
   "source": [
    "!python train.py --img 640 --batch 16 --epochs 20 --data KI_detection.yaml --weights yolov5s.pt --cache"
   ]
  },
  {
   "cell_type": "code",
   "execution_count": 5,
   "metadata": {},
   "outputs": [
    {
     "name": "stderr",
     "output_type": "stream",
     "text": [
      "\u001b[34m\u001b[1mdetect: \u001b[0mweights=['runs/train/exp5/weights/last.pt'], source=../mvtec_data_yolo/bottle/images/test, data=data\\coco128.yaml, imgsz=[640, 640], conf_thres=0.25, iou_thres=0.45, max_det=1000, device=, view_img=False, save_txt=False, save_conf=False, save_crop=False, nosave=False, classes=None, agnostic_nms=False, augment=False, visualize=False, update=False, project=runs\\detect, name=exp, exist_ok=False, line_thickness=3, hide_labels=False, hide_conf=False, half=False, dnn=False\n",
      "YOLOv5  2022-5-15 Python-3.8.0 torch-1.8.2+cpu CPU\n",
      "\n",
      "Fusing layers... \n",
      "Model summary: 213 layers, 7012822 parameters, 0 gradients, 15.8 GFLOPs\n",
      "image 1/8 C:\\Users\\tobia\\Desktop\\Master\\2. Semester\\02_KI_Produktion\\Programme\\Project\\Kuenstliche_Intelligenz_BoVW\\mvtec_data_yolo\\bottle\\images\\test\\000.png: 640x640 Done. (0.701s)\n",
      "image 2/8 C:\\Users\\tobia\\Desktop\\Master\\2. Semester\\02_KI_Produktion\\Programme\\Project\\Kuenstliche_Intelligenz_BoVW\\mvtec_data_yolo\\bottle\\images\\test\\001.png: 640x640 Done. (0.684s)\n",
      "image 3/8 C:\\Users\\tobia\\Desktop\\Master\\2. Semester\\02_KI_Produktion\\Programme\\Project\\Kuenstliche_Intelligenz_BoVW\\mvtec_data_yolo\\bottle\\images\\test\\002.png: 640x640 Done. (0.633s)\n",
      "image 4/8 C:\\Users\\tobia\\Desktop\\Master\\2. Semester\\02_KI_Produktion\\Programme\\Project\\Kuenstliche_Intelligenz_BoVW\\mvtec_data_yolo\\bottle\\images\\test\\003.png: 640x640 Done. (0.559s)\n",
      "image 5/8 C:\\Users\\tobia\\Desktop\\Master\\2. Semester\\02_KI_Produktion\\Programme\\Project\\Kuenstliche_Intelligenz_BoVW\\mvtec_data_yolo\\bottle\\images\\test\\004.png: 640x640 Done. (0.395s)\n",
      "image 6/8 C:\\Users\\tobia\\Desktop\\Master\\2. Semester\\02_KI_Produktion\\Programme\\Project\\Kuenstliche_Intelligenz_BoVW\\mvtec_data_yolo\\bottle\\images\\test\\005.png: 640x640 Done. (0.403s)\n",
      "image 7/8 C:\\Users\\tobia\\Desktop\\Master\\2. Semester\\02_KI_Produktion\\Programme\\Project\\Kuenstliche_Intelligenz_BoVW\\mvtec_data_yolo\\bottle\\images\\test\\006.png: 640x640 Done. (0.397s)\n",
      "image 8/8 C:\\Users\\tobia\\Desktop\\Master\\2. Semester\\02_KI_Produktion\\Programme\\Project\\Kuenstliche_Intelligenz_BoVW\\mvtec_data_yolo\\bottle\\images\\test\\007.png: 640x640 Done. (0.514s)\n",
      "Speed: 2.0ms pre-process, 535.7ms inference, 0.4ms NMS per image at shape (1, 3, 640, 640)\n",
      "Results saved to \u001b[1mruns\\detect\\exp6\u001b[0m\n"
     ]
    }
   ],
   "source": [
    "!python detect.py --weights runs/train/exp5/weights/last.pt --img 640 --conf 0.25 --source ../mvtec_data_yolo/bottle/images/test"
   ]
  }
 ],
 "metadata": {
  "interpreter": {
   "hash": "b6ff650ed7ce357665f7fd5d592e75f4599a5525aeef59f123230c33d5719d42"
  },
  "kernelspec": {
   "display_name": "Python 3.8.0 ('myenv': venv)",
   "language": "python",
   "name": "python3"
  },
  "language_info": {
   "codemirror_mode": {
    "name": "ipython",
    "version": 3
   },
   "file_extension": ".py",
   "mimetype": "text/x-python",
   "name": "python",
   "nbconvert_exporter": "python",
   "pygments_lexer": "ipython3",
   "version": "3.8.0"
  },
  "orig_nbformat": 4
 },
 "nbformat": 4,
 "nbformat_minor": 2
}
