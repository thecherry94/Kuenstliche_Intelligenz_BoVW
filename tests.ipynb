{
 "cells": [
  {
   "cell_type": "code",
   "execution_count": 12,
   "metadata": {},
   "outputs": [],
   "source": [
    "import os\n",
    "import utils\n",
    "from sklearn.preprocessing import StandardScaler\n",
    "from sklearn.svm import LinearSVC\n",
    "import numpy as np\n",
    "import tensorflow as tf\n",
    "\n",
    "main_dir = 'mvtec_anomaly_detection_data'"
   ]
  },
  {
   "cell_type": "code",
   "execution_count": 5,
   "metadata": {},
   "outputs": [
    {
     "ename": "Exception",
     "evalue": "Can't load dataset: Directory \"e:\\Uni\\2_semester\\Kuenstliche Intelligenz\\Kuenstliche_Intelligenz_BoVW\\mvtec_anomaly_detection_data\" does not exist.",
     "output_type": "error",
     "traceback": [
      "\u001b[1;31m---------------------------------------------------------------------------\u001b[0m",
      "\u001b[1;31mException\u001b[0m                                 Traceback (most recent call last)",
      "\u001b[1;32me:\\Uni\\2_semester\\Kuenstliche Intelligenz\\Kuenstliche_Intelligenz_BoVW\\tests.ipynb Cell 3'\u001b[0m in \u001b[0;36m<cell line: 1>\u001b[1;34m()\u001b[0m\n\u001b[1;32m----> <a href='vscode-notebook-cell:/e%3A/Uni/2_semester/Kuenstliche%20Intelligenz/Kuenstliche_Intelligenz_BoVW/tests.ipynb#ch0000002?line=0'>1</a>\u001b[0m train_images, train_labels, test_images, test_labels, ground_truth_paths \u001b[39m=\u001b[39m utils\u001b[39m.\u001b[39;49mload_mvtec_dataset(main_dir, \u001b[39m'\u001b[39;49m\u001b[39mbottle\u001b[39;49m\u001b[39m'\u001b[39;49m)\n",
      "File \u001b[1;32me:\\Uni\\2_semester\\Kuenstliche Intelligenz\\Kuenstliche_Intelligenz_BoVW\\utils.py:17\u001b[0m, in \u001b[0;36mload_mvtec_dataset\u001b[1;34m(directory, object_type, resize_dim)\u001b[0m\n\u001b[0;32m      <a href='file:///e%3A/Uni/2_semester/Kuenstliche%20Intelligenz/Kuenstliche_Intelligenz_BoVW/utils.py?line=6'>7</a>\u001b[0m \u001b[39mdef\u001b[39;00m \u001b[39mload_mvtec_dataset\u001b[39m(directory, object_type, resize_dim\u001b[39m=\u001b[39m\u001b[39m0\u001b[39m):\n\u001b[0;32m      <a href='file:///e%3A/Uni/2_semester/Kuenstliche%20Intelligenz/Kuenstliche_Intelligenz_BoVW/utils.py?line=7'>8</a>\u001b[0m     \u001b[39m\"\"\"\u001b[39;00m\n\u001b[0;32m      <a href='file:///e%3A/Uni/2_semester/Kuenstliche%20Intelligenz/Kuenstliche_Intelligenz_BoVW/utils.py?line=8'>9</a>\u001b[0m \u001b[39m    Loads the MVTEC dataset of the specified object type. (bottle, cable, capsule, etc.)\u001b[39;00m\n\u001b[0;32m     <a href='file:///e%3A/Uni/2_semester/Kuenstliche%20Intelligenz/Kuenstliche_Intelligenz_BoVW/utils.py?line=9'>10</a>\u001b[0m \n\u001b[1;32m   (...)\u001b[0m\n\u001b[0;32m     <a href='file:///e%3A/Uni/2_semester/Kuenstliche%20Intelligenz/Kuenstliche_Intelligenz_BoVW/utils.py?line=13'>14</a>\u001b[0m \u001b[39m    :return: A tuple containing the training images, training labels, testing images, and testing labels.\u001b[39;00m\n\u001b[0;32m     <a href='file:///e%3A/Uni/2_semester/Kuenstliche%20Intelligenz/Kuenstliche_Intelligenz_BoVW/utils.py?line=14'>15</a>\u001b[0m \u001b[39m    \"\"\"\u001b[39;00m\n\u001b[1;32m---> <a href='file:///e%3A/Uni/2_semester/Kuenstliche%20Intelligenz/Kuenstliche_Intelligenz_BoVW/utils.py?line=16'>17</a>\u001b[0m     train_paths, test_paths, ground_truth_paths \u001b[39m=\u001b[39m __filter_mvtec_dataset_paths(directory, object_type)\n\u001b[0;32m     <a href='file:///e%3A/Uni/2_semester/Kuenstliche%20Intelligenz/Kuenstliche_Intelligenz_BoVW/utils.py?line=17'>18</a>\u001b[0m     train_images, train_labels, test_images, test_labels \u001b[39m=\u001b[39m __load_and_label_data((train_paths, test_paths), resize_dim)\n\u001b[0;32m     <a href='file:///e%3A/Uni/2_semester/Kuenstliche%20Intelligenz/Kuenstliche_Intelligenz_BoVW/utils.py?line=18'>19</a>\u001b[0m     \u001b[39mreturn\u001b[39;00m train_images, train_labels, test_images, test_labels, ground_truth_paths\n",
      "File \u001b[1;32me:\\Uni\\2_semester\\Kuenstliche Intelligenz\\Kuenstliche_Intelligenz_BoVW\\utils.py:34\u001b[0m, in \u001b[0;36m__filter_mvtec_dataset_paths\u001b[1;34m(directory, object_type)\u001b[0m\n\u001b[0;32m     <a href='file:///e%3A/Uni/2_semester/Kuenstliche%20Intelligenz/Kuenstliche_Intelligenz_BoVW/utils.py?line=31'>32</a>\u001b[0m \u001b[39m# Check if directory exists\u001b[39;00m\n\u001b[0;32m     <a href='file:///e%3A/Uni/2_semester/Kuenstliche%20Intelligenz/Kuenstliche_Intelligenz_BoVW/utils.py?line=32'>33</a>\u001b[0m \u001b[39mif\u001b[39;00m \u001b[39mnot\u001b[39;00m os\u001b[39m.\u001b[39mpath\u001b[39m.\u001b[39misdir(directory):\n\u001b[1;32m---> <a href='file:///e%3A/Uni/2_semester/Kuenstliche%20Intelligenz/Kuenstliche_Intelligenz_BoVW/utils.py?line=33'>34</a>\u001b[0m     \u001b[39mraise\u001b[39;00m \u001b[39mException\u001b[39;00m(\u001b[39mf\u001b[39m\u001b[39m\"\u001b[39m\u001b[39mCan\u001b[39m\u001b[39m'\u001b[39m\u001b[39mt load dataset: Directory \u001b[39m\u001b[39m\\\"\u001b[39;00m\u001b[39m{\u001b[39;00mos\u001b[39m.\u001b[39mpath\u001b[39m.\u001b[39mabspath(directory)\u001b[39m}\u001b[39;00m\u001b[39m\\\"\u001b[39;00m\u001b[39m does not exist.\u001b[39m\u001b[39m\"\u001b[39m)\n\u001b[0;32m     <a href='file:///e%3A/Uni/2_semester/Kuenstliche%20Intelligenz/Kuenstliche_Intelligenz_BoVW/utils.py?line=35'>36</a>\u001b[0m ground_truth_paths \u001b[39m=\u001b[39m {}\n\u001b[0;32m     <a href='file:///e%3A/Uni/2_semester/Kuenstliche%20Intelligenz/Kuenstliche_Intelligenz_BoVW/utils.py?line=36'>37</a>\u001b[0m test_paths \u001b[39m=\u001b[39m {\u001b[39m'\u001b[39m\u001b[39mgood\u001b[39m\u001b[39m'\u001b[39m: [], \u001b[39m'\u001b[39m\u001b[39mbad\u001b[39m\u001b[39m'\u001b[39m: []}\n",
      "\u001b[1;31mException\u001b[0m: Can't load dataset: Directory \"e:\\Uni\\2_semester\\Kuenstliche Intelligenz\\Kuenstliche_Intelligenz_BoVW\\mvtec_anomaly_detection_data\" does not exist."
     ]
    }
   ],
   "source": [
    "train_images, train_labels, test_images, test_labels, ground_truth_paths = utils.load_mvtec_dataset(main_dir, 'bottle')"
   ]
  },
  {
   "cell_type": "code",
   "execution_count": null,
   "metadata": {},
   "outputs": [
    {
     "name": "stderr",
     "output_type": "stream",
     "text": [
      "c:\\uni\\2_semester\\KI\\Kuenstliche_Intelligenz_BoVW\\utils.py:133: VisibleDeprecationWarning: Creating an ndarray from ragged nested sequences (which is a list-or-tuple of lists-or-tuples-or ndarrays with different lengths or shapes) is deprecated. If you meant to do this, you must specify 'dtype=object' when creating the ndarray.\n",
      "  kp_list = np.array(kp_list)\n",
      "c:\\uni\\2_semester\\KI\\Kuenstliche_Intelligenz_BoVW\\utils.py:134: VisibleDeprecationWarning: Creating an ndarray from ragged nested sequences (which is a list-or-tuple of lists-or-tuples-or ndarrays with different lengths or shapes) is deprecated. If you meant to do this, you must specify 'dtype=object' when creating the ndarray.\n",
      "  desc_list = np.array(desc_list)\n"
     ]
    }
   ],
   "source": [
    "img_features = utils.get_image_features(test_images, k=200)"
   ]
  },
  {
   "cell_type": "code",
   "execution_count": null,
   "metadata": {},
   "outputs": [],
   "source": [
    "stdslr = StandardScaler().fit(img_features)\n",
    "im_features = stdslr.transform(img_features)"
   ]
  },
  {
   "cell_type": "code",
   "execution_count": null,
   "metadata": {},
   "outputs": [
    {
     "data": {
      "text/plain": [
       "LinearSVC()"
      ]
     },
     "execution_count": 6,
     "metadata": {},
     "output_type": "execute_result"
    }
   ],
   "source": [
    "clf = LinearSVC()\n",
    "clf.fit(im_features, test_labels)"
   ]
  }
 ],
 "metadata": {
  "interpreter": {
   "hash": "82f4295d7d00fa74cbcfb396c508f8f0b63cc6e63bda6e92cc69842d10cefc88"
  },
  "kernelspec": {
   "display_name": "Python 3.10.4 64-bit",
   "language": "python",
   "name": "python3"
  },
  "language_info": {
   "codemirror_mode": {
    "name": "ipython",
    "version": 3
   },
   "file_extension": ".py",
   "mimetype": "text/x-python",
   "name": "python",
   "nbconvert_exporter": "python",
   "pygments_lexer": "ipython3",
   "version": "3.10.4"
  },
  "orig_nbformat": 4
 },
 "nbformat": 4,
 "nbformat_minor": 2
}
